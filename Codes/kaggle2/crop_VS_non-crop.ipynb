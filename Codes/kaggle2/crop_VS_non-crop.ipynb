{
  "cells": [
    {
      "cell_type": "code",
      "execution_count": 1,
      "metadata": {
        "colab": {
          "base_uri": "https://localhost:8080/"
        },
        "id": "T_mrQ7sFOj_c",
        "outputId": "5af7ebca-c0fb-431b-dd4f-cf0e92f6654f"
      },
      "outputs": [
        {
          "output_type": "stream",
          "name": "stdout",
          "text": [
            "Requirement already satisfied: gdown in /usr/local/lib/python3.7/dist-packages (3.6.4)\n",
            "Requirement already satisfied: six in /usr/local/lib/python3.7/dist-packages (from gdown) (1.15.0)\n",
            "Requirement already satisfied: requests in /usr/local/lib/python3.7/dist-packages (from gdown) (2.23.0)\n",
            "Requirement already satisfied: tqdm in /usr/local/lib/python3.7/dist-packages (from gdown) (4.62.3)\n",
            "Requirement already satisfied: urllib3!=1.25.0,!=1.25.1,<1.26,>=1.21.1 in /usr/local/lib/python3.7/dist-packages (from requests->gdown) (1.24.3)\n",
            "Requirement already satisfied: chardet<4,>=3.0.2 in /usr/local/lib/python3.7/dist-packages (from requests->gdown) (3.0.4)\n",
            "Requirement already satisfied: certifi>=2017.4.17 in /usr/local/lib/python3.7/dist-packages (from requests->gdown) (2021.10.8)\n",
            "Requirement already satisfied: idna<3,>=2.5 in /usr/local/lib/python3.7/dist-packages (from requests->gdown) (2.10)\n",
            "Downloading...\n",
            "From: https://drive.google.com/uc?id=1isIiMdaS97UOmX1pDppI1EdNyL7Nu2MT\n",
            "To: /content/test_nolabels.csv\n",
            "100% 4.82M/4.82M [00:00<00:00, 15.2MB/s]\n",
            "Downloading...\n",
            "From: https://drive.google.com/uc?id=1xbSC8V8PsKfmlvELjlOy2moGt4Cf2s0P\n",
            "To: /content/train.csv\n",
            "100% 252M/252M [00:06<00:00, 39.9MB/s]\n"
          ]
        }
      ],
      "source": [
        "# import data from csv files\n",
        "!pip install gdown\n",
        "!gdown \"https://drive.google.com/uc?id=1isIiMdaS97UOmX1pDppI1EdNyL7Nu2MT\"\n",
        "!gdown \"https://drive.google.com/uc?id=1xbSC8V8PsKfmlvELjlOy2moGt4Cf2s0P\"\n",
        "\n",
        "f_train = 'train.csv'\n",
        "f_test = 'test_nolabels.csv'"
      ]
    },
    {
      "cell_type": "code",
      "execution_count": 2,
      "metadata": {
        "colab": {
          "base_uri": "https://localhost:8080/"
        },
        "id": "kpmzKD0Iq-Uy",
        "outputId": "d10a3b2d-f914-43fa-fcdd-b8f208fecc6a"
      },
      "outputs": [
        {
          "output_type": "stream",
          "name": "stdout",
          "text": [
            "Your version of Pytorch is 1.10.0+cu111. You should use a version >0.4.\n",
            "cpu\n"
          ]
        }
      ],
      "source": [
        "import pandas as pd\n",
        "import numpy as np\n",
        "from sklearn.model_selection import KFold\n",
        "from sklearn.decomposition import PCA, KernelPCA\n",
        "from sklearn.neighbors import KNeighborsClassifier, NearestCentroid\n",
        "from sklearn.ensemble import RandomForestClassifier, GradientBoostingClassifier, HistGradientBoostingClassifier, AdaBoostClassifier\n",
        "import sklearn\n",
        "import random\n",
        "import torch\n",
        "from typing import Tuple, Callable, List, NamedTuple\n",
        "import torchvision\n",
        "import tqdm\n",
        "import seaborn as sns\n",
        "import matplotlib.pyplot as plt\n",
        "print(f\"Your version of Pytorch is {torch.__version__}. You should use a version >0.4.\")\n",
        "\n",
        "# If a GPU is available, use it\n",
        "# Pytorch uses an elegant way to keep the code device agnostic\n",
        "if torch.cuda.is_available():\n",
        "    device = torch.device(\"cuda\")\n",
        "    use_cuda = True\n",
        "else:\n",
        "    device = torch.device(\"cpu\")\n",
        "    use_cuda = False\n",
        "    \n",
        "print(device)"
      ]
    },
    {
      "cell_type": "code",
      "execution_count": 3,
      "metadata": {
        "colab": {
          "base_uri": "https://localhost:8080/"
        },
        "id": "aP0KdfaSSymM",
        "outputId": "54e88c62-d690-469b-cfd0-f15ef0aa0d46"
      },
      "outputs": [
        {
          "output_type": "stream",
          "name": "stdout",
          "text": [
            "(62000, 216)\n",
            "(62000,)\n",
            "(1200, 216)\n"
          ]
        }
      ],
      "source": [
        "# preprocess data\n",
        "train_data = pd.read_csv(f_train)\n",
        "test_data = pd.read_csv(f_test)\n",
        "\n",
        "X = train_data.iloc[:, 1:-1].to_numpy().astype(np.float)\n",
        "print(X.shape)  # original features\n",
        "y = train_data.iloc[:, -1].to_numpy().astype(np.float)\n",
        "print(y.shape)  # binary label\n",
        "\n",
        "test_X = test_data.iloc[:, 1:].to_numpy().astype(np.float)\n",
        "print(test_X.shape)"
      ]
    },
    {
      "cell_type": "code",
      "source": [
        "def normalize(train_X, valid_X):\n",
        "  train_mean = np.mean(train_X, axis=0)\n",
        "  train_std = np.std(train_X, axis=0)\n",
        "\n",
        "  train_X_new = (train_X- train_mean)/train_std\n",
        "  valid_X_new = (valid_X- train_mean)/train_std\n",
        "  return train_X_new, valid_X_new"
      ],
      "metadata": {
        "id": "-HCcPJKL_8Uq"
      },
      "execution_count": 4,
      "outputs": []
    },
    {
      "cell_type": "code",
      "execution_count": 5,
      "metadata": {
        "id": "7bLvoqf-A_Ap",
        "cellView": "form"
      },
      "outputs": [],
      "source": [
        "#@title f1 score def\n",
        "def f1_score(y_true:torch.Tensor, y_pred:torch.Tensor, is_training=False) -> torch.Tensor:\n",
        "    '''Calculate F1 score. Can work with gpu tensors\n",
        "    \n",
        "    The original implmentation is written by Michal Haltuf on Kaggle.\n",
        "    \n",
        "    Returns\n",
        "    -------\n",
        "    torch.Tensor\n",
        "        `ndim` == 1. 0 <= val <= 1\n",
        "    \n",
        "    Reference\n",
        "    ---------\n",
        "    - https://www.kaggle.com/rejpalcz/best-loss-function-for-f1-score-metric\n",
        "    - https://scikit-learn.org/stable/modules/generated/sklearn.metrics.f1_score.html#sklearn.metrics.f1_score\n",
        "    - https://discuss.pytorch.org/t/calculating-precision-recall-and-f1-score-in-case-of-multi-label-classification/28265/6\n",
        "    \n",
        "    '''\n",
        "    assert y_true.ndim == 1\n",
        "    assert y_pred.ndim == 1 or y_pred.ndim == 2\n",
        "    \n",
        "    if y_pred.ndim == 2:\n",
        "        y_pred = y_pred.argmax(dim=1)\n",
        "        \n",
        "    \n",
        "    tp = (y_true * y_pred).sum().to(torch.float32)\n",
        "    tn = ((1 - y_true) * (1 - y_pred)).sum().to(torch.float32)\n",
        "    fp = ((1 - y_true) * y_pred).sum().to(torch.float32)\n",
        "    fn = (y_true * (1 - y_pred)).sum().to(torch.float32)\n",
        "    \n",
        "    epsilon = 1e-7\n",
        "    \n",
        "    precision = tp / (tp + fp + epsilon)\n",
        "    recall = tp / (tp + fn + epsilon)\n",
        "    \n",
        "    f1 = 2* (precision*recall) / (precision + recall + epsilon)\n",
        "    f1.requires_grad = is_training\n",
        "    return f1"
      ]
    },
    {
      "cell_type": "markdown",
      "metadata": {
        "id": "dvVcXeFR4TlK"
      },
      "source": [
        "### **Random Forest**"
      ]
    },
    {
      "cell_type": "code",
      "execution_count": 8,
      "metadata": {
        "id": "ZVgYOZBq6MXK",
        "colab": {
          "base_uri": "https://localhost:8080/"
        },
        "cellView": "form",
        "outputId": "714419b2-f860-4c86-f2f6-5fe74ec06eb0"
      },
      "outputs": [
        {
          "output_type": "stream",
          "name": "stdout",
          "text": [
            "Current max_dept >>>  10\n",
            "F1 for RF (train, valid) 0.9120087838010367 0.871889400921659\n",
            "Current max_dept >>>  15\n",
            "F1 for RF (train, valid) 0.9678241896900712 0.8835736897643335\n",
            "Current max_dept >>>  20\n",
            "F1 for RF (train, valid) 0.9875620891405925 0.8834951456310679\n",
            "Current max_dept >>>  25\n",
            "F1 for RF (train, valid) 0.9923448452151917 0.8817868599263395\n",
            "Current max_dept >>>  30\n",
            "F1 for RF (train, valid) 0.9937623775715035 0.8857786739414067\n",
            "Current max_dept >>>  35\n",
            "F1 for RF (train, valid) 0.9942171598031946 0.8823738872403561\n",
            "Current max_dept >>>  40\n",
            "F1 for RF (train, valid) 0.9943103680733452 0.8868283404660009\n",
            "Current max_dept >>>  45\n",
            "F1 for RF (train, valid) 0.9943379438647577 0.8853238265002971\n",
            "Current max_dept >>>  50\n",
            "F1 for RF (train, valid) 0.9943390122924304 0.8829749316858738\n",
            "Current max_dept >>>  55\n",
            "F1 for RF (train, valid) 0.9943374858437145 0.8811387900355871\n",
            "Current max_dept >>>  60\n",
            "F1 for RF (train, valid) 0.9943391648920399 0.88158050396309\n",
            "Current max_dept >>>  65\n",
            "F1 for RF (train, valid) 0.9943388596845936 0.8836436958842367\n",
            "Current max_dept >>>  70\n",
            "F1 for RF (train, valid) 0.9943393174834223 0.8841456184038895\n",
            "Current max_dept >>>  75\n",
            "F1 for RF (train, valid) 0.9943385544442348 0.8828078524687687\n",
            "Current max_dept >>>  80\n",
            "F1 for RF (train, valid) 0.9943385544442348 0.8848528015194682\n",
            "Current max_dept >>>  85\n",
            "F1 for RF (train, valid) 0.9943390122924304 0.8837209302325582\n",
            "Current max_dept >>>  90\n",
            "F1 for RF (train, valid) 0.9943377911993098 0.8846885401806942\n",
            "Current max_dept >>>  95\n",
            "F1 for RF (train, valid) 0.9943390122924304 0.8840579710144927\n"
          ]
        }
      ],
      "source": [
        "#@title RF trialing\n",
        "n_estimators = 100\n",
        "max_depths = list(range(10,100,5))\n",
        "kf = KFold(n_splits=10, shuffle=True)\n",
        "kf_f1 = []\n",
        "kf_acc = []\n",
        "\n",
        "cv_f1 = []\n",
        "for train, valid in kf.split(X):\n",
        "    f1_vals = []\n",
        "    f1_trs = []\n",
        "    X_train_n, X_valid_n = normalize(X[train], X[valid])\n",
        "    for max_depth in max_depths:\n",
        "        print('Current max_dept >>> ', max_depth)\n",
        "        model = RandomForestClassifier(n_estimators=n_estimators,\n",
        "                                      max_depth=max_depth)\n",
        "        model.fit(X_train_n, y[train])\n",
        "        preds = model.predict(X_valid_n)\n",
        "        preds_tr = model.predict(X_train_n)\n",
        "\n",
        "        f1_val = sklearn.metrics.f1_score(y[valid], preds)\n",
        "        f1_tr = sklearn.metrics.f1_score(y[train], preds_tr)\n",
        "        print('F1 for RF (train, valid)', f1_tr, f1_val)\n",
        "        f1_vals.append(f1_val)\n",
        "        f1_trs.append(f1_tr)\n",
        "    break"
      ]
    },
    {
      "cell_type": "code",
      "execution_count": 9,
      "metadata": {
        "id": "m5tGbEUc5Uah",
        "colab": {
          "base_uri": "https://localhost:8080/",
          "height": 301
        },
        "outputId": "fb207a82-0560-41b6-de00-65dd116c643f"
      },
      "outputs": [
        {
          "output_type": "execute_result",
          "data": {
            "text/plain": [
              "[None]"
            ]
          },
          "metadata": {},
          "execution_count": 9
        },
        {
          "output_type": "display_data",
          "data": {
            "image/png": "[encoded data removed]",
            "text/plain": [
              "<Figure size 432x288 with 1 Axes>"
            ]
          },
          "metadata": {
            "needs_background": "light"
          }
        }
      ],
      "source": [
        "# Plot for Random forest max depth\n",
        "########################\n",
        "df = pd.DataFrame()\n",
        "df['max_depth'] = max_depths\n",
        "df['F1 (validation)'] = f1_vals\n",
        "df['F1 (training)'] = f1_trs\n",
        "ax = sns.lineplot(\n",
        "      data=df,\n",
        "      x=\"max_depth\", y=\"F1 (training)\",\n",
        "      marker='o'\n",
        "      )\n",
        "ax = sns.lineplot(\n",
        "    data=df,\n",
        "    x=\"max_depth\", y=\"F1 (training)\",\n",
        "    marker='x'\n",
        ")\n",
        "ax.set(xscale='log')"
      ]
    },
    {
      "cell_type": "markdown",
      "source": [
        "### **AdaBoost**"
      ],
      "metadata": {
        "id": "uIi6JbDjAsHQ"
      }
    },
    {
      "cell_type": "code",
      "execution_count": null,
      "metadata": {
        "colab": {
          "base_uri": "https://localhost:8080/"
        },
        "id": "SXmITxDF35ZM",
        "outputId": "0bfc4d70-92e9-4c3f-b7cd-1b6f7c03b6bf",
        "cellView": "form"
      },
      "outputs": [
        {
          "name": "stdout",
          "output_type": "stream",
          "text": [
            "F1 for AdaBoost (train, valid) 0.8483495951837243 0.837516201248969\n"
          ]
        }
      ],
      "source": [
        "#@title AdaBoost trialing\n",
        "n_estimators = 100 \n",
        "kf = KFold(n_splits=10, shuffle=True)\n",
        "kf_f1 = []\n",
        "kf_acc = []\n",
        "\n",
        "cv_f1 = []\n",
        "for train, valid in kf.split(X):\n",
        "    f1_vals = []\n",
        "    f1_trs = []\n",
        "    X_train_n, X_valid_n = Trainer.normalize(X[train], X[valid])\n",
        "    for max_depth in max_depths:\n",
        "        model = AdaBoostClassifier(n_estimators=n_estimators)\n",
        "        model.fit(X_train_n, y[train])\n",
        "        preds = model.predict(X_valid_n)\n",
        "        preds_tr = model.predict(X_train_n)\n",
        "        f1_val = sklearn.metrics.f1_score(y[valid], preds)\n",
        "        f1_tr = sklearn.metrics.f1_score(y[train], preds_tr)\n",
        "        print('F1 for AdaBoost (train, valid)', f1_tr, f1_val)\n",
        "        f1_vals.append(f1_val)\n",
        "        f1_trs.append(f1_tr)\n",
        "        break\n",
        "    # cv_f1.append(np.mean(moving_f1))\n",
        "    break"
      ]
    },
    {
      "cell_type": "markdown",
      "source": [
        "### **XGBoost**"
      ],
      "metadata": {
        "id": "JqVZG-oVc7Am"
      }
    },
    {
      "cell_type": "code",
      "source": [
        "#@title XGBoost data\n",
        "import xgboost as xgb\n",
        "from xgboost.sklearn import XGBClassifier\n",
        "#!pip sklearn\n",
        "from sklearn.model_selection import cross_validate, GridSearchCV, train_test_split\n",
        "from sklearn import metrics   #Additional     scklearn functions\n",
        "import matplotlib.pylab as plt\n",
        "%matplotlib inline\n",
        "from matplotlib.pylab import rcParams\n",
        "\n",
        "def standardization(data):\n",
        "    mu = np.mean(data, axis=0)\n",
        "    sigma = np.std(data, axis=0)\n",
        "    return (data - mu) / sigma\n",
        "\n",
        "standardization(X)\n",
        "data = standardization(X) \n",
        "label = y \n",
        "\n",
        "train_x, test_x, train_y, test_y = train_test_split(data, label, random_state=0)\n",
        "dtrain=xgb.DMatrix(train_x,label=train_y)\n",
        "dtest=xgb.DMatrix(test_x)"
      ],
      "metadata": {
        "id": "og5VwSGdc6ZC",
        "cellView": "form"
      },
      "execution_count": null,
      "outputs": []
    },
    {
      "cell_type": "code",
      "source": [
        "#@title XGBoost params\n",
        "params = {'booster':'gbtree',\n",
        "    'objective': 'binary:logistic',\n",
        "    'eval_metric': 'auc',\n",
        "    'gamma':0.1,\n",
        "    'max_depth':18,\n",
        "    'lambda':5,\n",
        "    'subsample':0.75,\n",
        "    'colsample_bytree':0.75,\n",
        "    'min_child_weight':2,\n",
        "    'eta': 0.05,\n",
        "    'seed':0,\n",
        "    'nthread':8,}"
      ],
      "metadata": {
        "id": "npfhsKcLdKDO",
        "cellView": "form"
      },
      "execution_count": null,
      "outputs": []
    },
    {
      "cell_type": "code",
      "source": [
        "#@title XGBoost trialing\n",
        "def f1_eval(predt, dtrain):\n",
        "    y = dtrain.get_label()\n",
        "    predt_binary = np.where(predt > 0.5, 1, 0)\n",
        "    return \"F1_score\", sklearn.metrics.f1_score(y_true=y, y_pred=predt_binary)\n",
        "\n",
        "bst_cv1 = xgb.cv(params, dtrain, num_boost_round=50, nfold=5, \n",
        "                feval=f1_eval, maximize=False)\n",
        "\n",
        "print ('CV score:', bst_cv1.iloc[-1,:]['test-F1_score-mean']) \n",
        "plt.figure() \n",
        "bst_cv1[['train-F1_score-mean', 'test-F1_score-mean']].plot()"
      ],
      "metadata": {
        "colab": {
          "base_uri": "https://localhost:8080/",
          "height": 318
        },
        "id": "PDrbB5w_de2O",
        "outputId": "0a18a87f-4df0-4892-ef88-58b033b3caa4",
        "cellView": "form"
      },
      "execution_count": null,
      "outputs": [
        {
          "output_type": "stream",
          "name": "stdout",
          "text": [
            "CV score: 0.8847883999999999\n"
          ]
        },
        {
          "output_type": "execute_result",
          "data": {
            "text/plain": [
              "<matplotlib.axes._subplots.AxesSubplot at 0x7fc2a6ff9950>"
            ]
          },
          "metadata": {},
          "execution_count": 26
        },
        {
          "output_type": "display_data",
          "data": {
            "text/plain": [
              "<Figure size 432x288 with 0 Axes>"
            ]
          },
          "metadata": {}
        },
        {
          "output_type": "display_data",
          "data": {
            "image/png": "[encoded data removed]",
            "text/plain": [
              "<Figure size 432x288 with 1 Axes>"
            ]
          },
          "metadata": {
            "needs_background": "light"
          }
        }
      ]
    }
  ],
  "metadata": {
    "colab": {
      "collapsed_sections": [],
      "name": "IFT6390-kaggle2.ipynb",
      "provenance": []
    },
    "kernelspec": {
      "display_name": "Python 3",
      "name": "python3"
    },
    "language_info": {
      "name": "python"
    }
  },
  "nbformat": 4,
  "nbformat_minor": 0
}